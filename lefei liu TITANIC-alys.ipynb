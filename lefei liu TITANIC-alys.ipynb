{
 "cells": [
  {
   "cell_type": "markdown",
   "id": "48da02e2",
   "metadata": {},
   "source": [
    "# Predicting Survival on the Titanic Using Deep Learning-Lefei Liu"
   ]
  },
  {
   "cell_type": "markdown",
   "id": "a5de9673",
   "metadata": {},
   "source": [
    "The dataset from the Titanic Kaggle competition provides various passenger details. Let's conduct an analysis focusing on the use of deep learning techniques to predict survival."
   ]
  },
  {
   "cell_type": "markdown",
   "id": "8c06d731",
   "metadata": {},
   "source": [
    "# 1. Insert DATA"
   ]
  },
  {
   "cell_type": "code",
   "execution_count": 1,
   "id": "aeca10f2",
   "metadata": {
    "_cell_guid": "b1076dfc-b9ad-4769-8c92-a6c4dae69d19",
    "_uuid": "8f2839f25d086af736a60e9eeb907d3b93b6e0e5",
    "execution": {
     "iopub.execute_input": "2023-08-07T07:30:29.672382Z",
     "iopub.status.busy": "2023-08-07T07:30:29.671148Z",
     "iopub.status.idle": "2023-08-07T07:30:29.695398Z",
     "shell.execute_reply": "2023-08-07T07:30:29.694274Z"
    },
    "papermill": {
     "duration": 0.035259,
     "end_time": "2023-08-07T07:30:29.698109",
     "exception": false,
     "start_time": "2023-08-07T07:30:29.662850",
     "status": "completed"
    },
    "tags": []
   },
   "outputs": [],
   "source": [
    "\n",
    "import os\n",
    "for dirname, _, filenames in os.walk('/kaggle/input'):\n",
    "    for filename in filenames:\n",
    "        print(os.path.join(dirname, filename))\n",
    "\n"
   ]
  },
  {
   "cell_type": "code",
   "execution_count": 2,
   "id": "828bf13c",
   "metadata": {
    "execution": {
     "iopub.execute_input": "2023-08-07T07:30:29.712957Z",
     "iopub.status.busy": "2023-08-07T07:30:29.711839Z",
     "iopub.status.idle": "2023-08-07T07:30:31.059525Z",
     "shell.execute_reply": "2023-08-07T07:30:31.058030Z"
    },
    "papermill": {
     "duration": 1.357518,
     "end_time": "2023-08-07T07:30:31.062037",
     "exception": false,
     "start_time": "2023-08-07T07:30:29.704519",
     "status": "completed"
    },
    "tags": []
   },
   "outputs": [
    {
     "data": {
      "text/html": [
       "<div>\n",
       "<style scoped>\n",
       "    .dataframe tbody tr th:only-of-type {\n",
       "        vertical-align: middle;\n",
       "    }\n",
       "\n",
       "    .dataframe tbody tr th {\n",
       "        vertical-align: top;\n",
       "    }\n",
       "\n",
       "    .dataframe thead th {\n",
       "        text-align: right;\n",
       "    }\n",
       "</style>\n",
       "<table border=\"1\" class=\"dataframe\">\n",
       "  <thead>\n",
       "    <tr style=\"text-align: right;\">\n",
       "      <th></th>\n",
       "      <th>PassengerId</th>\n",
       "      <th>Survived</th>\n",
       "      <th>Pclass</th>\n",
       "      <th>Name</th>\n",
       "      <th>Sex</th>\n",
       "      <th>Age</th>\n",
       "      <th>SibSp</th>\n",
       "      <th>Parch</th>\n",
       "      <th>Ticket</th>\n",
       "      <th>Fare</th>\n",
       "      <th>Cabin</th>\n",
       "      <th>Embarked</th>\n",
       "    </tr>\n",
       "  </thead>\n",
       "  <tbody>\n",
       "    <tr>\n",
       "      <th>0</th>\n",
       "      <td>1</td>\n",
       "      <td>0</td>\n",
       "      <td>3</td>\n",
       "      <td>Braund, Mr. Owen Harris</td>\n",
       "      <td>male</td>\n",
       "      <td>22.0</td>\n",
       "      <td>1</td>\n",
       "      <td>0</td>\n",
       "      <td>A/5 21171</td>\n",
       "      <td>7.2500</td>\n",
       "      <td>NaN</td>\n",
       "      <td>S</td>\n",
       "    </tr>\n",
       "    <tr>\n",
       "      <th>1</th>\n",
       "      <td>2</td>\n",
       "      <td>1</td>\n",
       "      <td>1</td>\n",
       "      <td>Cumings, Mrs. John Bradley (Florence Briggs Th...</td>\n",
       "      <td>female</td>\n",
       "      <td>38.0</td>\n",
       "      <td>1</td>\n",
       "      <td>0</td>\n",
       "      <td>PC 17599</td>\n",
       "      <td>71.2833</td>\n",
       "      <td>C85</td>\n",
       "      <td>C</td>\n",
       "    </tr>\n",
       "    <tr>\n",
       "      <th>2</th>\n",
       "      <td>3</td>\n",
       "      <td>1</td>\n",
       "      <td>3</td>\n",
       "      <td>Heikkinen, Miss. Laina</td>\n",
       "      <td>female</td>\n",
       "      <td>26.0</td>\n",
       "      <td>0</td>\n",
       "      <td>0</td>\n",
       "      <td>STON/O2. 3101282</td>\n",
       "      <td>7.9250</td>\n",
       "      <td>NaN</td>\n",
       "      <td>S</td>\n",
       "    </tr>\n",
       "    <tr>\n",
       "      <th>3</th>\n",
       "      <td>4</td>\n",
       "      <td>1</td>\n",
       "      <td>1</td>\n",
       "      <td>Futrelle, Mrs. Jacques Heath (Lily May Peel)</td>\n",
       "      <td>female</td>\n",
       "      <td>35.0</td>\n",
       "      <td>1</td>\n",
       "      <td>0</td>\n",
       "      <td>113803</td>\n",
       "      <td>53.1000</td>\n",
       "      <td>C123</td>\n",
       "      <td>S</td>\n",
       "    </tr>\n",
       "    <tr>\n",
       "      <th>4</th>\n",
       "      <td>5</td>\n",
       "      <td>0</td>\n",
       "      <td>3</td>\n",
       "      <td>Allen, Mr. William Henry</td>\n",
       "      <td>male</td>\n",
       "      <td>35.0</td>\n",
       "      <td>0</td>\n",
       "      <td>0</td>\n",
       "      <td>373450</td>\n",
       "      <td>8.0500</td>\n",
       "      <td>NaN</td>\n",
       "      <td>S</td>\n",
       "    </tr>\n",
       "  </tbody>\n",
       "</table>\n",
       "</div>"
      ],
      "text/plain": [
       "   PassengerId  Survived  Pclass  \\\n",
       "0            1         0       3   \n",
       "1            2         1       1   \n",
       "2            3         1       3   \n",
       "3            4         1       1   \n",
       "4            5         0       3   \n",
       "\n",
       "                                                Name     Sex   Age  SibSp  \\\n",
       "0                            Braund, Mr. Owen Harris    male  22.0      1   \n",
       "1  Cumings, Mrs. John Bradley (Florence Briggs Th...  female  38.0      1   \n",
       "2                             Heikkinen, Miss. Laina  female  26.0      0   \n",
       "3       Futrelle, Mrs. Jacques Heath (Lily May Peel)  female  35.0      1   \n",
       "4                           Allen, Mr. William Henry    male  35.0      0   \n",
       "\n",
       "   Parch            Ticket     Fare Cabin Embarked  \n",
       "0      0         A/5 21171   7.2500   NaN        S  \n",
       "1      0          PC 17599  71.2833   C85        C  \n",
       "2      0  STON/O2. 3101282   7.9250   NaN        S  \n",
       "3      0            113803  53.1000  C123        S  \n",
       "4      0            373450   8.0500   NaN        S  "
      ]
     },
     "execution_count": 2,
     "metadata": {},
     "output_type": "execute_result"
    }
   ],
   "source": [
    "import pandas as pd\n",
    "import matplotlib.pyplot as plt\n",
    "import seaborn as sns\n",
    "\n",
    "# Load the training data\n",
    "train_data = pd.read_csv('train.csv')\n",
    "\n",
    "# Display the first few rows of the data\n",
    "train_data.head()"
   ]
  },
  {
   "cell_type": "markdown",
   "id": "268c2394",
   "metadata": {},
   "source": [
    "# 2.Check the distribution of the Survived and so on"
   ]
  },
  {
   "cell_type": "code",
   "execution_count": 3,
   "id": "f33b4962",
   "metadata": {
    "execution": {
     "iopub.execute_input": "2023-08-07T07:30:31.076531Z",
     "iopub.status.busy": "2023-08-07T07:30:31.076136Z",
     "iopub.status.idle": "2023-08-07T07:30:31.316518Z",
     "shell.execute_reply": "2023-08-07T07:30:31.315263Z"
    },
    "papermill": {
     "duration": 0.250701,
     "end_time": "2023-08-07T07:30:31.319087",
     "exception": false,
     "start_time": "2023-08-07T07:30:31.068386",
     "status": "completed"
    },
    "tags": []
   },
   "outputs": [
    {
     "data": {
      "image/png": "[encoded data removed]",
      "text/plain": [
       "<Figure size 640x480 with 1 Axes>"
      ]
     },
     "metadata": {},
     "output_type": "display_data"
    }
   ],
   "source": [
    "# 'Survived' column\n",
    "sns.countplot(x='Survived', data=train_data)\n",
    "plt.title('Survival Count')\n",
    "plt.show()"
   ]
  },
  {
   "cell_type": "markdown",
   "id": "b8d0c0b6",
   "metadata": {},
   "source": [
    "# Check the distribution of the Pclass"
   ]
  },
  {
   "cell_type": "code",
   "execution_count": 4,
   "id": "34a815ed",
   "metadata": {
    "execution": {
     "iopub.execute_input": "2023-08-07T07:30:31.335129Z",
     "iopub.status.busy": "2023-08-07T07:30:31.334059Z",
     "iopub.status.idle": "2023-08-07T07:30:31.543214Z",
     "shell.execute_reply": "2023-08-07T07:30:31.542048Z"
    },
    "papermill": {
     "duration": 0.219662,
     "end_time": "2023-08-07T07:30:31.545576",
     "exception": false,
     "start_time": "2023-08-07T07:30:31.325914",
     "status": "completed"
    },
    "tags": []
   },
   "outputs": [
    {
     "data": {
      "image/png": "[encoded data removed]",
      "text/plain": [
       "<Figure size 640x480 with 1 Axes>"
      ]
     },
     "metadata": {},
     "output_type": "display_data"
    }
   ],
   "source": [
    "#'Pclass' column\n",
    "sns.countplot(x='Pclass', data=train_data)\n",
    "plt.title('Passenger Class Count')\n",
    "plt.show()"
   ]
  },
  {
   "cell_type": "markdown",
   "id": "11376cc5",
   "metadata": {},
   "source": [
    "# Check the distribution of the Sex"
   ]
  },
  {
   "cell_type": "code",
   "execution_count": 5,
   "id": "76f14f27",
   "metadata": {
    "execution": {
     "iopub.execute_input": "2023-08-07T07:30:31.563484Z",
     "iopub.status.busy": "2023-08-07T07:30:31.563104Z",
     "iopub.status.idle": "2023-08-07T07:30:31.773536Z",
     "shell.execute_reply": "2023-08-07T07:30:31.772588Z"
    },
    "papermill": {
     "duration": 0.221673,
     "end_time": "2023-08-07T07:30:31.775940",
     "exception": false,
     "start_time": "2023-08-07T07:30:31.554267",
     "status": "completed"
    },
    "tags": []
   },
   "outputs": [
    {
     "data": {
      "image/png": "[encoded data removed]",
      "text/plain": [
       "<Figure size 640x480 with 1 Axes>"
      ]
     },
     "metadata": {},
     "output_type": "display_data"
    }
   ],
   "source": [
    "#'Sex' column\n",
    "sns.countplot(x='Sex', data=train_data)\n",
    "plt.title('Gender Count')\n",
    "plt.show()"
   ]
  },
  {
   "cell_type": "markdown",
   "id": "debb52ca",
   "metadata": {},
   "source": [
    "# Check the distribution of the Age"
   ]
  },
  {
   "cell_type": "code",
   "execution_count": 6,
   "id": "483a91b4",
   "metadata": {
    "execution": {
     "iopub.execute_input": "2023-08-07T07:30:31.793027Z",
     "iopub.status.busy": "2023-08-07T07:30:31.792575Z",
     "iopub.status.idle": "2023-08-07T07:30:32.101861Z",
     "shell.execute_reply": "2023-08-07T07:30:32.100667Z"
    },
    "papermill": {
     "duration": 0.320455,
     "end_time": "2023-08-07T07:30:32.104052",
     "exception": false,
     "start_time": "2023-08-07T07:30:31.783597",
     "status": "completed"
    },
    "tags": []
   },
   "outputs": [
    {
     "data": {
      "image/png": "[encoded data removed]",
      "text/plain": [
       "<Figure size 640x480 with 1 Axes>"
      ]
     },
     "metadata": {},
     "output_type": "display_data"
    }
   ],
   "source": [
    "# the same with 'Age' column\n",
    "plt.hist(train_data['Age'].dropna(), bins=30, edgecolor='black')\n",
    "plt.title('Age Distribution')\n",
    "plt.xlabel('Age')\n",
    "plt.ylabel('Count')\n",
    "plt.show()"
   ]
  },
  {
   "cell_type": "markdown",
   "id": "1ca19dc1",
   "metadata": {},
   "source": [
    "# Check missing values"
   ]
  },
  {
   "cell_type": "code",
   "execution_count": 7,
   "id": "f7eea0c6",
   "metadata": {
    "execution": {
     "iopub.execute_input": "2023-08-07T07:30:32.121814Z",
     "iopub.status.busy": "2023-08-07T07:30:32.120754Z",
     "iopub.status.idle": "2023-08-07T07:30:32.130825Z",
     "shell.execute_reply": "2023-08-07T07:30:32.129801Z"
    },
    "papermill": {
     "duration": 0.021074,
     "end_time": "2023-08-07T07:30:32.132924",
     "exception": false,
     "start_time": "2023-08-07T07:30:32.111850",
     "status": "completed"
    },
    "tags": []
   },
   "outputs": [
    {
     "data": {
      "text/plain": [
       "PassengerId      0\n",
       "Survived         0\n",
       "Pclass           0\n",
       "Name             0\n",
       "Sex              0\n",
       "Age            177\n",
       "SibSp            0\n",
       "Parch            0\n",
       "Ticket           0\n",
       "Fare             0\n",
       "Cabin          687\n",
       "Embarked         2\n",
       "dtype: int64"
      ]
     },
     "execution_count": 7,
     "metadata": {},
     "output_type": "execute_result"
    }
   ],
   "source": [
    "# Check for missing values\n",
    "train_data.isnull().sum()"
   ]
  },
  {
   "cell_type": "code",
   "execution_count": 8,
   "id": "635d73a5",
   "metadata": {
    "execution": {
     "iopub.execute_input": "2023-08-07T07:30:32.150863Z",
     "iopub.status.busy": "2023-08-07T07:30:32.149853Z",
     "iopub.status.idle": "2023-08-07T07:30:32.160218Z",
     "shell.execute_reply": "2023-08-07T07:30:32.159294Z"
    },
    "papermill": {
     "duration": 0.021469,
     "end_time": "2023-08-07T07:30:32.162263",
     "exception": false,
     "start_time": "2023-08-07T07:30:32.140794",
     "status": "completed"
    },
    "tags": []
   },
   "outputs": [
    {
     "data": {
      "text/plain": [
       "0"
      ]
     },
     "execution_count": 8,
     "metadata": {},
     "output_type": "execute_result"
    }
   ],
   "source": [
    "# Fill missing values in the 'Age' column with the median age\n",
    "train_data['Age'].fillna(train_data['Age'].median(), inplace=True)\n",
    "\n",
    "# Check if there are any missing values left in the 'Age' column\n",
    "train_data['Age'].isnull().sum()"
   ]
  },
  {
   "cell_type": "markdown",
   "id": "1c47e6ce",
   "metadata": {},
   "source": [
    "# Drop and train the Column we need"
   ]
  },
  {
   "cell_type": "code",
   "execution_count": 9,
   "id": "0dfa079a",
   "metadata": {
    "execution": {
     "iopub.execute_input": "2023-08-07T07:30:32.180861Z",
     "iopub.status.busy": "2023-08-07T07:30:32.179767Z",
     "iopub.status.idle": "2023-08-07T07:30:32.188167Z",
     "shell.execute_reply": "2023-08-07T07:30:32.187018Z"
    },
    "papermill": {
     "duration": 0.020175,
     "end_time": "2023-08-07T07:30:32.190538",
     "exception": false,
     "start_time": "2023-08-07T07:30:32.170363",
     "status": "completed"
    },
    "tags": []
   },
   "outputs": [
    {
     "data": {
      "text/plain": [
       "False"
      ]
     },
     "execution_count": 9,
     "metadata": {},
     "output_type": "execute_result"
    }
   ],
   "source": [
    "# Drop the 'Cabin' column\n",
    "train_data.drop('Cabin', axis=1, inplace=True)\n",
    "\n",
    "# Check if the 'Cabin' column has been dropped\n",
    "'Cabin' in train_data.columns"
   ]
  },
  {
   "cell_type": "code",
   "execution_count": 10,
   "id": "f24f35ae",
   "metadata": {
    "execution": {
     "iopub.execute_input": "2023-08-07T07:30:32.209966Z",
     "iopub.status.busy": "2023-08-07T07:30:32.209153Z",
     "iopub.status.idle": "2023-08-07T07:30:32.222279Z",
     "shell.execute_reply": "2023-08-07T07:30:32.221264Z"
    },
    "papermill": {
     "duration": 0.025919,
     "end_time": "2023-08-07T07:30:32.224526",
     "exception": false,
     "start_time": "2023-08-07T07:30:32.198607",
     "status": "completed"
    },
    "tags": []
   },
   "outputs": [
    {
     "data": {
      "text/plain": [
       "0"
      ]
     },
     "execution_count": 10,
     "metadata": {},
     "output_type": "execute_result"
    }
   ],
   "source": [
    "# Fill missing values in the 'Embarked' column with the most common value\n",
    "most_common_embarked = train_data['Embarked'].mode()[0]\n",
    "train_data['Embarked'].fillna(most_common_embarked, inplace=True)\n",
    "\n",
    "# Check if there are any missing values left in the 'Embarked' column\n",
    "train_data['Embarked'].isnull().sum()"
   ]
  },
  {
   "cell_type": "code",
   "execution_count": 11,
   "id": "2227f5ab",
   "metadata": {
    "execution": {
     "iopub.execute_input": "2023-08-07T07:30:32.243970Z",
     "iopub.status.busy": "2023-08-07T07:30:32.243034Z",
     "iopub.status.idle": "2023-08-07T07:30:32.253460Z",
     "shell.execute_reply": "2023-08-07T07:30:32.252303Z"
    },
    "papermill": {
     "duration": 0.023011,
     "end_time": "2023-08-07T07:30:32.255652",
     "exception": false,
     "start_time": "2023-08-07T07:30:32.232641",
     "status": "completed"
    },
    "tags": []
   },
   "outputs": [
    {
     "data": {
      "text/plain": [
       "array(['Mr', 'Mrs', 'Miss', 'Master', 'Don', 'Rev', 'Dr', 'Mme', 'Ms',\n",
       "       'Major', 'Lady', 'Sir', 'Mlle', 'Col', 'Capt', 'the Countess',\n",
       "       'Jonkheer'], dtype=object)"
      ]
     },
     "execution_count": 11,
     "metadata": {},
     "output_type": "execute_result"
    }
   ],
   "source": [
    "# Extract 'Title' from 'Name' column\n",
    "train_data['Title'] = train_data['Name'].apply(lambda name: name.split(',')[1].split('.')[0].strip())\n",
    "\n",
    "# Check the unique values of 'Title'\n",
    "train_data['Title'].unique()"
   ]
  },
  {
   "cell_type": "code",
   "execution_count": 12,
   "id": "41c7dabb",
   "metadata": {
    "execution": {
     "iopub.execute_input": "2023-08-07T07:30:32.275737Z",
     "iopub.status.busy": "2023-08-07T07:30:32.274895Z",
     "iopub.status.idle": "2023-08-07T07:30:32.285552Z",
     "shell.execute_reply": "2023-08-07T07:30:32.284658Z"
    },
    "papermill": {
     "duration": 0.023223,
     "end_time": "2023-08-07T07:30:32.287600",
     "exception": false,
     "start_time": "2023-08-07T07:30:32.264377",
     "status": "completed"
    },
    "tags": []
   },
   "outputs": [
    {
     "data": {
      "text/plain": [
       "array(['Mr', 'Mrs', 'Miss', 'Master', 'Rare'], dtype=object)"
      ]
     },
     "execution_count": 12,
     "metadata": {},
     "output_type": "execute_result"
    }
   ],
   "source": [
    "# Group rare titles into a single category 'Rare'\n",
    "rare_titles = ['Don', 'Rev', 'Dr', 'Mme', 'Ms', 'Major', 'Lady', 'Sir', 'Mlle', 'Col', 'Capt', 'the Countess', 'Jonkheer']\n",
    "train_data['Title'] = train_data['Title'].replace(rare_titles, 'Rare')\n",
    "\n",
    "# Check the unique values of 'Title' after grouping rare titles\n",
    "train_data['Title'].unique()"
   ]
  },
  {
   "cell_type": "code",
   "execution_count": 13,
   "id": "eca38065",
   "metadata": {
    "execution": {
     "iopub.execute_input": "2023-08-07T07:30:32.306314Z",
     "iopub.status.busy": "2023-08-07T07:30:32.305409Z",
     "iopub.status.idle": "2023-08-07T07:30:32.331181Z",
     "shell.execute_reply": "2023-08-07T07:30:32.329760Z"
    },
    "papermill": {
     "duration": 0.037662,
     "end_time": "2023-08-07T07:30:32.333572",
     "exception": false,
     "start_time": "2023-08-07T07:30:32.295910",
     "status": "completed"
    },
    "tags": []
   },
   "outputs": [
    {
     "data": {
      "text/html": [
       "<div>\n",
       "<style scoped>\n",
       "    .dataframe tbody tr th:only-of-type {\n",
       "        vertical-align: middle;\n",
       "    }\n",
       "\n",
       "    .dataframe tbody tr th {\n",
       "        vertical-align: top;\n",
       "    }\n",
       "\n",
       "    .dataframe thead th {\n",
       "        text-align: right;\n",
       "    }\n",
       "</style>\n",
       "<table border=\"1\" class=\"dataframe\">\n",
       "  <thead>\n",
       "    <tr style=\"text-align: right;\">\n",
       "      <th></th>\n",
       "      <th>PassengerId</th>\n",
       "      <th>Survived</th>\n",
       "      <th>Pclass</th>\n",
       "      <th>Name</th>\n",
       "      <th>Age</th>\n",
       "      <th>SibSp</th>\n",
       "      <th>Parch</th>\n",
       "      <th>Ticket</th>\n",
       "      <th>Fare</th>\n",
       "      <th>Sex_female</th>\n",
       "      <th>Sex_male</th>\n",
       "      <th>Embarked_C</th>\n",
       "      <th>Embarked_Q</th>\n",
       "      <th>Embarked_S</th>\n",
       "      <th>Title_Master</th>\n",
       "      <th>Title_Miss</th>\n",
       "      <th>Title_Mr</th>\n",
       "      <th>Title_Mrs</th>\n",
       "      <th>Title_Rare</th>\n",
       "    </tr>\n",
       "  </thead>\n",
       "  <tbody>\n",
       "    <tr>\n",
       "      <th>0</th>\n",
       "      <td>1</td>\n",
       "      <td>0</td>\n",
       "      <td>3</td>\n",
       "      <td>Braund, Mr. Owen Harris</td>\n",
       "      <td>22.0</td>\n",
       "      <td>1</td>\n",
       "      <td>0</td>\n",
       "      <td>A/5 21171</td>\n",
       "      <td>7.2500</td>\n",
       "      <td>False</td>\n",
       "      <td>True</td>\n",
       "      <td>False</td>\n",
       "      <td>False</td>\n",
       "      <td>True</td>\n",
       "      <td>False</td>\n",
       "      <td>False</td>\n",
       "      <td>True</td>\n",
       "      <td>False</td>\n",
       "      <td>False</td>\n",
       "    </tr>\n",
       "    <tr>\n",
       "      <th>1</th>\n",
       "      <td>2</td>\n",
       "      <td>1</td>\n",
       "      <td>1</td>\n",
       "      <td>Cumings, Mrs. John Bradley (Florence Briggs Th...</td>\n",
       "      <td>38.0</td>\n",
       "      <td>1</td>\n",
       "      <td>0</td>\n",
       "      <td>PC 17599</td>\n",
       "      <td>71.2833</td>\n",
       "      <td>True</td>\n",
       "      <td>False</td>\n",
       "      <td>True</td>\n",
       "      <td>False</td>\n",
       "      <td>False</td>\n",
       "      <td>False</td>\n",
       "      <td>False</td>\n",
       "      <td>False</td>\n",
       "      <td>True</td>\n",
       "      <td>False</td>\n",
       "    </tr>\n",
       "    <tr>\n",
       "      <th>2</th>\n",
       "      <td>3</td>\n",
       "      <td>1</td>\n",
       "      <td>3</td>\n",
       "      <td>Heikkinen, Miss. Laina</td>\n",
       "      <td>26.0</td>\n",
       "      <td>0</td>\n",
       "      <td>0</td>\n",
       "      <td>STON/O2. 3101282</td>\n",
       "      <td>7.9250</td>\n",
       "      <td>True</td>\n",
       "      <td>False</td>\n",
       "      <td>False</td>\n",
       "      <td>False</td>\n",
       "      <td>True</td>\n",
       "      <td>False</td>\n",
       "      <td>True</td>\n",
       "      <td>False</td>\n",
       "      <td>False</td>\n",
       "      <td>False</td>\n",
       "    </tr>\n",
       "    <tr>\n",
       "      <th>3</th>\n",
       "      <td>4</td>\n",
       "      <td>1</td>\n",
       "      <td>1</td>\n",
       "      <td>Futrelle, Mrs. Jacques Heath (Lily May Peel)</td>\n",
       "      <td>35.0</td>\n",
       "      <td>1</td>\n",
       "      <td>0</td>\n",
       "      <td>113803</td>\n",
       "      <td>53.1000</td>\n",
       "      <td>True</td>\n",
       "      <td>False</td>\n",
       "      <td>False</td>\n",
       "      <td>False</td>\n",
       "      <td>True</td>\n",
       "      <td>False</td>\n",
       "      <td>False</td>\n",
       "      <td>False</td>\n",
       "      <td>True</td>\n",
       "      <td>False</td>\n",
       "    </tr>\n",
       "    <tr>\n",
       "      <th>4</th>\n",
       "      <td>5</td>\n",
       "      <td>0</td>\n",
       "      <td>3</td>\n",
       "      <td>Allen, Mr. William Henry</td>\n",
       "      <td>35.0</td>\n",
       "      <td>0</td>\n",
       "      <td>0</td>\n",
       "      <td>373450</td>\n",
       "      <td>8.0500</td>\n",
       "      <td>False</td>\n",
       "      <td>True</td>\n",
       "      <td>False</td>\n",
       "      <td>False</td>\n",
       "      <td>True</td>\n",
       "      <td>False</td>\n",
       "      <td>False</td>\n",
       "      <td>True</td>\n",
       "      <td>False</td>\n",
       "      <td>False</td>\n",
       "    </tr>\n",
       "  </tbody>\n",
       "</table>\n",
       "</div>"
      ],
      "text/plain": [
       "   PassengerId  Survived  Pclass  \\\n",
       "0            1         0       3   \n",
       "1            2         1       1   \n",
       "2            3         1       3   \n",
       "3            4         1       1   \n",
       "4            5         0       3   \n",
       "\n",
       "                                                Name   Age  SibSp  Parch  \\\n",
       "0                            Braund, Mr. Owen Harris  22.0      1      0   \n",
       "1  Cumings, Mrs. John Bradley (Florence Briggs Th...  38.0      1      0   \n",
       "2                             Heikkinen, Miss. Laina  26.0      0      0   \n",
       "3       Futrelle, Mrs. Jacques Heath (Lily May Peel)  35.0      1      0   \n",
       "4                           Allen, Mr. William Henry  35.0      0      0   \n",
       "\n",
       "             Ticket     Fare  Sex_female  Sex_male  Embarked_C  Embarked_Q  \\\n",
       "0         A/5 21171   7.2500       False      True       False       False   \n",
       "1          PC 17599  71.2833        True     False        True       False   \n",
       "2  STON/O2. 3101282   7.9250        True     False       False       False   \n",
       "3            113803  53.1000        True     False       False       False   \n",
       "4            373450   8.0500       False      True       False       False   \n",
       "\n",
       "   Embarked_S  Title_Master  Title_Miss  Title_Mr  Title_Mrs  Title_Rare  \n",
       "0        True         False       False      True      False       False  \n",
       "1       False         False       False     False       True       False  \n",
       "2        True         False        True     False      False       False  \n",
       "3        True         False       False     False       True       False  \n",
       "4        True         False       False      True      False       False  "
      ]
     },
     "execution_count": 13,
     "metadata": {},
     "output_type": "execute_result"
    }
   ],
   "source": [
    "# Convert categorical features into numerical ones using one-hot encoding\n",
    "train_data = pd.get_dummies(train_data, columns=['Sex', 'Embarked', 'Title'])\n",
    "\n",
    "# Check the first few rows of the data after one-hot encoding\n",
    "train_data.head()"
   ]
  },
  {
   "cell_type": "code",
   "execution_count": 14,
   "id": "93913b06",
   "metadata": {
    "execution": {
     "iopub.execute_input": "2023-08-07T07:30:32.354277Z",
     "iopub.status.busy": "2023-08-07T07:30:32.353449Z",
     "iopub.status.idle": "2023-08-07T07:30:33.207431Z",
     "shell.execute_reply": "2023-08-07T07:30:33.206410Z"
    },
    "papermill": {
     "duration": 0.866876,
     "end_time": "2023-08-07T07:30:33.209821",
     "exception": false,
     "start_time": "2023-08-07T07:30:32.342945",
     "status": "completed"
    },
    "tags": []
   },
   "outputs": [
    {
     "data": {
      "text/plain": [
       "0.8156424581005587"
      ]
     },
     "execution_count": 14,
     "metadata": {},
     "output_type": "execute_result"
    }
   ],
   "source": [
    "from sklearn.ensemble import RandomForestClassifier\n",
    "from sklearn.model_selection import train_test_split\n",
    "from sklearn.metrics import accuracy_score\n",
    "\n",
    "# Define the feature columns and the target column\n",
    "feature_cols = ['Pclass', 'Age', 'SibSp', 'Parch', 'Fare', 'Sex_female', 'Sex_male', 'Embarked_C', 'Embarked_Q', 'Embarked_S', 'Title_Master', 'Title_Miss', 'Title_Mr', 'Title_Mrs', 'Title_Rare']\n",
    "target_col = 'Survived'\n",
    "\n",
    "# Split the data into training and validation sets\n",
    "X_train, X_val, y_train, y_val = train_test_split(train_data[feature_cols], train_data[target_col], test_size=0.2, random_state=42)\n",
    "\n",
    "# Initialize a Random Forest Classifier\n",
    "model = RandomForestClassifier(n_estimators=100, random_state=42)\n",
    "\n",
    "# Train the model\n",
    "model.fit(X_train, y_train)\n",
    "\n",
    "# Make predictions on the validation set\n",
    "y_val_pred = model.predict(X_val)\n",
    "\n",
    "# Calculate the accuracy of the model\n",
    "accuracy = accuracy_score(y_val, y_val_pred)\n",
    "accuracy"
   ]
  },
  {
   "cell_type": "code",
   "execution_count": 15,
   "id": "56b60c17",
   "metadata": {
    "execution": {
     "iopub.execute_input": "2023-08-07T07:30:33.231839Z",
     "iopub.status.busy": "2023-08-07T07:30:33.230665Z",
     "iopub.status.idle": "2023-08-07T07:30:33.271601Z",
     "shell.execute_reply": "2023-08-07T07:30:33.270407Z"
    },
    "papermill": {
     "duration": 0.055008,
     "end_time": "2023-08-07T07:30:33.274110",
     "exception": false,
     "start_time": "2023-08-07T07:30:33.219102",
     "status": "completed"
    },
    "tags": []
   },
   "outputs": [
    {
     "data": {
      "text/html": [
       "<div>\n",
       "<style scoped>\n",
       "    .dataframe tbody tr th:only-of-type {\n",
       "        vertical-align: middle;\n",
       "    }\n",
       "\n",
       "    .dataframe tbody tr th {\n",
       "        vertical-align: top;\n",
       "    }\n",
       "\n",
       "    .dataframe thead th {\n",
       "        text-align: right;\n",
       "    }\n",
       "</style>\n",
       "<table border=\"1\" class=\"dataframe\">\n",
       "  <thead>\n",
       "    <tr style=\"text-align: right;\">\n",
       "      <th></th>\n",
       "      <th>PassengerId</th>\n",
       "      <th>Pclass</th>\n",
       "      <th>Name</th>\n",
       "      <th>Age</th>\n",
       "      <th>SibSp</th>\n",
       "      <th>Parch</th>\n",
       "      <th>Ticket</th>\n",
       "      <th>Fare</th>\n",
       "      <th>Sex_female</th>\n",
       "      <th>Sex_male</th>\n",
       "      <th>Embarked_C</th>\n",
       "      <th>Embarked_Q</th>\n",
       "      <th>Embarked_S</th>\n",
       "      <th>Title_Dona</th>\n",
       "      <th>Title_Master</th>\n",
       "      <th>Title_Miss</th>\n",
       "      <th>Title_Mr</th>\n",
       "      <th>Title_Mrs</th>\n",
       "      <th>Title_Rare</th>\n",
       "    </tr>\n",
       "  </thead>\n",
       "  <tbody>\n",
       "    <tr>\n",
       "      <th>0</th>\n",
       "      <td>892</td>\n",
       "      <td>3</td>\n",
       "      <td>Kelly, Mr. James</td>\n",
       "      <td>34.5</td>\n",
       "      <td>0</td>\n",
       "      <td>0</td>\n",
       "      <td>330911</td>\n",
       "      <td>7.8292</td>\n",
       "      <td>False</td>\n",
       "      <td>True</td>\n",
       "      <td>False</td>\n",
       "      <td>True</td>\n",
       "      <td>False</td>\n",
       "      <td>False</td>\n",
       "      <td>False</td>\n",
       "      <td>False</td>\n",
       "      <td>True</td>\n",
       "      <td>False</td>\n",
       "      <td>False</td>\n",
       "    </tr>\n",
       "    <tr>\n",
       "      <th>1</th>\n",
       "      <td>893</td>\n",
       "      <td>3</td>\n",
       "      <td>Wilkes, Mrs. James (Ellen Needs)</td>\n",
       "      <td>47.0</td>\n",
       "      <td>1</td>\n",
       "      <td>0</td>\n",
       "      <td>363272</td>\n",
       "      <td>7.0000</td>\n",
       "      <td>True</td>\n",
       "      <td>False</td>\n",
       "      <td>False</td>\n",
       "      <td>False</td>\n",
       "      <td>True</td>\n",
       "      <td>False</td>\n",
       "      <td>False</td>\n",
       "      <td>False</td>\n",
       "      <td>False</td>\n",
       "      <td>True</td>\n",
       "      <td>False</td>\n",
       "    </tr>\n",
       "    <tr>\n",
       "      <th>2</th>\n",
       "      <td>894</td>\n",
       "      <td>2</td>\n",
       "      <td>Myles, Mr. Thomas Francis</td>\n",
       "      <td>62.0</td>\n",
       "      <td>0</td>\n",
       "      <td>0</td>\n",
       "      <td>240276</td>\n",
       "      <td>9.6875</td>\n",
       "      <td>False</td>\n",
       "      <td>True</td>\n",
       "      <td>False</td>\n",
       "      <td>True</td>\n",
       "      <td>False</td>\n",
       "      <td>False</td>\n",
       "      <td>False</td>\n",
       "      <td>False</td>\n",
       "      <td>True</td>\n",
       "      <td>False</td>\n",
       "      <td>False</td>\n",
       "    </tr>\n",
       "    <tr>\n",
       "      <th>3</th>\n",
       "      <td>895</td>\n",
       "      <td>3</td>\n",
       "      <td>Wirz, Mr. Albert</td>\n",
       "      <td>27.0</td>\n",
       "      <td>0</td>\n",
       "      <td>0</td>\n",
       "      <td>315154</td>\n",
       "      <td>8.6625</td>\n",
       "      <td>False</td>\n",
       "      <td>True</td>\n",
       "      <td>False</td>\n",
       "      <td>False</td>\n",
       "      <td>True</td>\n",
       "      <td>False</td>\n",
       "      <td>False</td>\n",
       "      <td>False</td>\n",
       "      <td>True</td>\n",
       "      <td>False</td>\n",
       "      <td>False</td>\n",
       "    </tr>\n",
       "    <tr>\n",
       "      <th>4</th>\n",
       "      <td>896</td>\n",
       "      <td>3</td>\n",
       "      <td>Hirvonen, Mrs. Alexander (Helga E Lindqvist)</td>\n",
       "      <td>22.0</td>\n",
       "      <td>1</td>\n",
       "      <td>1</td>\n",
       "      <td>3101298</td>\n",
       "      <td>12.2875</td>\n",
       "      <td>True</td>\n",
       "      <td>False</td>\n",
       "      <td>False</td>\n",
       "      <td>False</td>\n",
       "      <td>True</td>\n",
       "      <td>False</td>\n",
       "      <td>False</td>\n",
       "      <td>False</td>\n",
       "      <td>False</td>\n",
       "      <td>True</td>\n",
       "      <td>False</td>\n",
       "    </tr>\n",
       "  </tbody>\n",
       "</table>\n",
       "</div>"
      ],
      "text/plain": [
       "   PassengerId  Pclass                                          Name   Age  \\\n",
       "0          892       3                              Kelly, Mr. James  34.5   \n",
       "1          893       3              Wilkes, Mrs. James (Ellen Needs)  47.0   \n",
       "2          894       2                     Myles, Mr. Thomas Francis  62.0   \n",
       "3          895       3                              Wirz, Mr. Albert  27.0   \n",
       "4          896       3  Hirvonen, Mrs. Alexander (Helga E Lindqvist)  22.0   \n",
       "\n",
       "   SibSp  Parch   Ticket     Fare  Sex_female  Sex_male  Embarked_C  \\\n",
       "0      0      0   330911   7.8292       False      True       False   \n",
       "1      1      0   363272   7.0000        True     False       False   \n",
       "2      0      0   240276   9.6875       False      True       False   \n",
       "3      0      0   315154   8.6625       False      True       False   \n",
       "4      1      1  3101298  12.2875        True     False       False   \n",
       "\n",
       "   Embarked_Q  Embarked_S  Title_Dona  Title_Master  Title_Miss  Title_Mr  \\\n",
       "0        True       False       False         False       False      True   \n",
       "1       False        True       False         False       False     False   \n",
       "2        True       False       False         False       False      True   \n",
       "3       False        True       False         False       False      True   \n",
       "4       False        True       False         False       False     False   \n",
       "\n",
       "   Title_Mrs  Title_Rare  \n",
       "0      False       False  \n",
       "1       True       False  \n",
       "2      False       False  \n",
       "3      False       False  \n",
       "4       True       False  "
      ]
     },
     "execution_count": 15,
     "metadata": {},
     "output_type": "execute_result"
    }
   ],
   "source": [
    "# Load the test data\n",
    "test_data = pd.read_csv('test.csv')\n",
    "\n",
    "# Fill missing values in the 'Age' column with the median age\n",
    "test_data['Age'].fillna(test_data['Age'].median(), inplace=True)\n",
    "\n",
    "# Drop the 'Cabin' column\n",
    "test_data.drop('Cabin', axis=1, inplace=True)\n",
    "\n",
    "# Fill missing values in the 'Embarked' column with the most common value\n",
    "most_common_embarked = test_data['Embarked'].mode()[0]\n",
    "test_data['Embarked'].fillna(most_common_embarked, inplace=True)\n",
    "\n",
    "# Extract 'Title' from 'Name' column\n",
    "test_data['Title'] = test_data['Name'].apply(lambda name: name.split(',')[1].split('.')[0].strip())\n",
    "\n",
    "# Group rare titles into a single category 'Rare'\n",
    "rare_titles = ['Don', 'Rev', 'Dr', 'Mme', 'Ms', 'Major', 'Lady', 'Sir', 'Mlle', 'Col', 'Capt', 'the Countess', 'Jonkheer']\n",
    "test_data['Title'] = test_data['Title'].replace(rare_titles, 'Rare')\n",
    "\n",
    "# Convert categorical features into numerical ones using one-hot encoding\n",
    "test_data = pd.get_dummies(test_data, columns=['Sex', 'Embarked', 'Title'])\n",
    "\n",
    "# Check the first few rows of the test data after preprocessing\n",
    "test_data.head()"
   ]
  },
  {
   "cell_type": "code",
   "execution_count": 16,
   "id": "9d2c7d5a",
   "metadata": {
    "execution": {
     "iopub.execute_input": "2023-08-07T07:30:33.294335Z",
     "iopub.status.busy": "2023-08-07T07:30:33.293952Z",
     "iopub.status.idle": "2023-08-07T07:30:33.303967Z",
     "shell.execute_reply": "2023-08-07T07:30:33.302803Z"
    },
    "papermill": {
     "duration": 0.022977,
     "end_time": "2023-08-07T07:30:33.306244",
     "exception": false,
     "start_time": "2023-08-07T07:30:33.283267",
     "status": "completed"
    },
    "tags": []
   },
   "outputs": [
    {
     "data": {
      "text/plain": [
       "PassengerId     0\n",
       "Pclass          0\n",
       "Name            0\n",
       "Age             0\n",
       "SibSp           0\n",
       "Parch           0\n",
       "Ticket          0\n",
       "Fare            1\n",
       "Sex_female      0\n",
       "Sex_male        0\n",
       "Embarked_C      0\n",
       "Embarked_Q      0\n",
       "Embarked_S      0\n",
       "Title_Dona      0\n",
       "Title_Master    0\n",
       "Title_Miss      0\n",
       "Title_Mr        0\n",
       "Title_Mrs       0\n",
       "Title_Rare      0\n",
       "dtype: int64"
      ]
     },
     "execution_count": 16,
     "metadata": {},
     "output_type": "execute_result"
    }
   ],
   "source": [
    "# Check for missing values in the test data\n",
    "test_data.isnull().sum()"
   ]
  },
  {
   "cell_type": "code",
   "execution_count": 17,
   "id": "496acc63",
   "metadata": {
    "execution": {
     "iopub.execute_input": "2023-08-07T07:30:33.327123Z",
     "iopub.status.busy": "2023-08-07T07:30:33.325939Z",
     "iopub.status.idle": "2023-08-07T07:30:33.335436Z",
     "shell.execute_reply": "2023-08-07T07:30:33.334415Z"
    },
    "papermill": {
     "duration": 0.022208,
     "end_time": "2023-08-07T07:30:33.337615",
     "exception": false,
     "start_time": "2023-08-07T07:30:33.315407",
     "status": "completed"
    },
    "tags": []
   },
   "outputs": [
    {
     "data": {
      "text/plain": [
       "0"
      ]
     },
     "execution_count": 17,
     "metadata": {},
     "output_type": "execute_result"
    }
   ],
   "source": [
    "# Fill missing values in the 'Fare' column with the median fare\n",
    "test_data['Fare'].fillna(test_data['Fare'].median(), inplace=True)\n",
    "\n",
    "# Check if there are any missing values left in the 'Fare' column\n",
    "test_data['Fare'].isnull().sum()"
   ]
  },
  {
   "cell_type": "code",
   "execution_count": 18,
   "id": "68cb4e04",
   "metadata": {
    "execution": {
     "iopub.execute_input": "2023-08-07T07:30:33.358730Z",
     "iopub.status.busy": "2023-08-07T07:30:33.357897Z",
     "iopub.status.idle": "2023-08-07T07:30:33.397886Z",
     "shell.execute_reply": "2023-08-07T07:30:33.396736Z"
    },
    "papermill": {
     "duration": 0.053304,
     "end_time": "2023-08-07T07:30:33.400344",
     "exception": false,
     "start_time": "2023-08-07T07:30:33.347040",
     "status": "completed"
    },
    "tags": []
   },
   "outputs": [
    {
     "data": {
      "text/html": [
       "<div>\n",
       "<style scoped>\n",
       "    .dataframe tbody tr th:only-of-type {\n",
       "        vertical-align: middle;\n",
       "    }\n",
       "\n",
       "    .dataframe tbody tr th {\n",
       "        vertical-align: top;\n",
       "    }\n",
       "\n",
       "    .dataframe thead th {\n",
       "        text-align: right;\n",
       "    }\n",
       "</style>\n",
       "<table border=\"1\" class=\"dataframe\">\n",
       "  <thead>\n",
       "    <tr style=\"text-align: right;\">\n",
       "      <th></th>\n",
       "      <th>PassengerId</th>\n",
       "      <th>Pclass</th>\n",
       "      <th>Name</th>\n",
       "      <th>Age</th>\n",
       "      <th>SibSp</th>\n",
       "      <th>Parch</th>\n",
       "      <th>Ticket</th>\n",
       "      <th>Fare</th>\n",
       "      <th>Sex_female</th>\n",
       "      <th>Sex_male</th>\n",
       "      <th>Embarked_C</th>\n",
       "      <th>Embarked_Q</th>\n",
       "      <th>Embarked_S</th>\n",
       "      <th>Title_Dona</th>\n",
       "      <th>Title_Master</th>\n",
       "      <th>Title_Miss</th>\n",
       "      <th>Title_Mr</th>\n",
       "      <th>Title_Mrs</th>\n",
       "      <th>Title_Rare</th>\n",
       "      <th>Survived</th>\n",
       "    </tr>\n",
       "  </thead>\n",
       "  <tbody>\n",
       "    <tr>\n",
       "      <th>0</th>\n",
       "      <td>892</td>\n",
       "      <td>3</td>\n",
       "      <td>Kelly, Mr. James</td>\n",
       "      <td>34.5</td>\n",
       "      <td>0</td>\n",
       "      <td>0</td>\n",
       "      <td>330911</td>\n",
       "      <td>7.8292</td>\n",
       "      <td>False</td>\n",
       "      <td>True</td>\n",
       "      <td>False</td>\n",
       "      <td>True</td>\n",
       "      <td>False</td>\n",
       "      <td>False</td>\n",
       "      <td>False</td>\n",
       "      <td>False</td>\n",
       "      <td>True</td>\n",
       "      <td>False</td>\n",
       "      <td>False</td>\n",
       "      <td>0</td>\n",
       "    </tr>\n",
       "    <tr>\n",
       "      <th>1</th>\n",
       "      <td>893</td>\n",
       "      <td>3</td>\n",
       "      <td>Wilkes, Mrs. James (Ellen Needs)</td>\n",
       "      <td>47.0</td>\n",
       "      <td>1</td>\n",
       "      <td>0</td>\n",
       "      <td>363272</td>\n",
       "      <td>7.0000</td>\n",
       "      <td>True</td>\n",
       "      <td>False</td>\n",
       "      <td>False</td>\n",
       "      <td>False</td>\n",
       "      <td>True</td>\n",
       "      <td>False</td>\n",
       "      <td>False</td>\n",
       "      <td>False</td>\n",
       "      <td>False</td>\n",
       "      <td>True</td>\n",
       "      <td>False</td>\n",
       "      <td>0</td>\n",
       "    </tr>\n",
       "    <tr>\n",
       "      <th>2</th>\n",
       "      <td>894</td>\n",
       "      <td>2</td>\n",
       "      <td>Myles, Mr. Thomas Francis</td>\n",
       "      <td>62.0</td>\n",
       "      <td>0</td>\n",
       "      <td>0</td>\n",
       "      <td>240276</td>\n",
       "      <td>9.6875</td>\n",
       "      <td>False</td>\n",
       "      <td>True</td>\n",
       "      <td>False</td>\n",
       "      <td>True</td>\n",
       "      <td>False</td>\n",
       "      <td>False</td>\n",
       "      <td>False</td>\n",
       "      <td>False</td>\n",
       "      <td>True</td>\n",
       "      <td>False</td>\n",
       "      <td>False</td>\n",
       "      <td>0</td>\n",
       "    </tr>\n",
       "    <tr>\n",
       "      <th>3</th>\n",
       "      <td>895</td>\n",
       "      <td>3</td>\n",
       "      <td>Wirz, Mr. Albert</td>\n",
       "      <td>27.0</td>\n",
       "      <td>0</td>\n",
       "      <td>0</td>\n",
       "      <td>315154</td>\n",
       "      <td>8.6625</td>\n",
       "      <td>False</td>\n",
       "      <td>True</td>\n",
       "      <td>False</td>\n",
       "      <td>False</td>\n",
       "      <td>True</td>\n",
       "      <td>False</td>\n",
       "      <td>False</td>\n",
       "      <td>False</td>\n",
       "      <td>True</td>\n",
       "      <td>False</td>\n",
       "      <td>False</td>\n",
       "      <td>1</td>\n",
       "    </tr>\n",
       "    <tr>\n",
       "      <th>4</th>\n",
       "      <td>896</td>\n",
       "      <td>3</td>\n",
       "      <td>Hirvonen, Mrs. Alexander (Helga E Lindqvist)</td>\n",
       "      <td>22.0</td>\n",
       "      <td>1</td>\n",
       "      <td>1</td>\n",
       "      <td>3101298</td>\n",
       "      <td>12.2875</td>\n",
       "      <td>True</td>\n",
       "      <td>False</td>\n",
       "      <td>False</td>\n",
       "      <td>False</td>\n",
       "      <td>True</td>\n",
       "      <td>False</td>\n",
       "      <td>False</td>\n",
       "      <td>False</td>\n",
       "      <td>False</td>\n",
       "      <td>True</td>\n",
       "      <td>False</td>\n",
       "      <td>1</td>\n",
       "    </tr>\n",
       "  </tbody>\n",
       "</table>\n",
       "</div>"
      ],
      "text/plain": [
       "   PassengerId  Pclass                                          Name   Age  \\\n",
       "0          892       3                              Kelly, Mr. James  34.5   \n",
       "1          893       3              Wilkes, Mrs. James (Ellen Needs)  47.0   \n",
       "2          894       2                     Myles, Mr. Thomas Francis  62.0   \n",
       "3          895       3                              Wirz, Mr. Albert  27.0   \n",
       "4          896       3  Hirvonen, Mrs. Alexander (Helga E Lindqvist)  22.0   \n",
       "\n",
       "   SibSp  Parch   Ticket     Fare  Sex_female  Sex_male  Embarked_C  \\\n",
       "0      0      0   330911   7.8292       False      True       False   \n",
       "1      1      0   363272   7.0000        True     False       False   \n",
       "2      0      0   240276   9.6875       False      True       False   \n",
       "3      0      0   315154   8.6625       False      True       False   \n",
       "4      1      1  3101298  12.2875        True     False       False   \n",
       "\n",
       "   Embarked_Q  Embarked_S  Title_Dona  Title_Master  Title_Miss  Title_Mr  \\\n",
       "0        True       False       False         False       False      True   \n",
       "1       False        True       False         False       False     False   \n",
       "2        True       False       False         False       False      True   \n",
       "3       False        True       False         False       False      True   \n",
       "4       False        True       False         False       False     False   \n",
       "\n",
       "   Title_Mrs  Title_Rare  Survived  \n",
       "0      False       False         0  \n",
       "1       True       False         0  \n",
       "2      False       False         0  \n",
       "3      False       False         1  \n",
       "4       True       False         1  "
      ]
     },
     "execution_count": 18,
     "metadata": {},
     "output_type": "execute_result"
    }
   ],
   "source": [
    "# Make predictions on the test data\n",
    "test_data['Survived'] = model.predict(test_data[feature_cols])\n",
    "\n",
    "# Check the first few rows of the test data after making predictions\n",
    "test_data.head()"
   ]
  },
  {
   "cell_type": "code",
   "execution_count": 19,
   "id": "5910b5f3",
   "metadata": {
    "execution": {
     "iopub.execute_input": "2023-08-07T07:30:33.422562Z",
     "iopub.status.busy": "2023-08-07T07:30:33.421853Z",
     "iopub.status.idle": "2023-08-07T07:31:26.966310Z",
     "shell.execute_reply": "2023-08-07T07:31:26.964946Z"
    },
    "papermill": {
     "duration": 53.567401,
     "end_time": "2023-08-07T07:31:26.977553",
     "exception": false,
     "start_time": "2023-08-07T07:30:33.410152",
     "status": "completed"
    },
    "tags": []
   },
   "outputs": [
    {
     "data": {
      "text/plain": [
       "{'max_depth': None,\n",
       " 'min_samples_leaf': 4,\n",
       " 'min_samples_split': 2,\n",
       " 'n_estimators': 50}"
      ]
     },
     "execution_count": 19,
     "metadata": {},
     "output_type": "execute_result"
    }
   ],
   "source": [
    "from sklearn.model_selection import GridSearchCV\n",
    "\n",
    "# Define the parameter grid\n",
    "param_grid = {\n",
    "    'n_estimators': [50, 100, 200],\n",
    "    'max_depth': [None, 10, 20, 30],\n",
    "    'min_samples_split': [2, 5, 10],\n",
    "    'min_samples_leaf': [1, 2, 4]\n",
    "}\n",
    "\n",
    "# Initialize a GridSearchCV object\n",
    "grid_search = GridSearchCV(estimator=model, param_grid=param_grid, cv=5, scoring='accuracy', n_jobs=-1)\n",
    "\n",
    "# Fit the GridSearchCV object to the data\n",
    "grid_search.fit(X_train, y_train)\n",
    "\n",
    "# Get the best parameters\n",
    "best_params = grid_search.best_params_\n",
    "best_params"
   ]
  },
  {
   "cell_type": "code",
   "execution_count": 20,
   "id": "62539175",
   "metadata": {
    "execution": {
     "iopub.execute_input": "2023-08-07T07:31:26.999457Z",
     "iopub.status.busy": "2023-08-07T07:31:26.998503Z",
     "iopub.status.idle": "2023-08-07T07:31:27.115473Z",
     "shell.execute_reply": "2023-08-07T07:31:27.114384Z"
    },
    "papermill": {
     "duration": 0.130761,
     "end_time": "2023-08-07T07:31:27.117953",
     "exception": false,
     "start_time": "2023-08-07T07:31:26.987192",
     "status": "completed"
    },
    "tags": []
   },
   "outputs": [
    {
     "data": {
      "text/plain": [
       "0.8268156424581006"
      ]
     },
     "execution_count": 20,
     "metadata": {},
     "output_type": "execute_result"
    }
   ],
   "source": [
    "# Initialize a new Random Forest Classifier with the best parameters\n",
    "best_model = RandomForestClassifier(n_estimators=50, max_depth=None, min_samples_split=2, min_samples_leaf=4, random_state=42)\n",
    "\n",
    "# Train the model\n",
    "best_model.fit(X_train, y_train)\n",
    "\n",
    "# Make predictions on the validation set\n",
    "y_val_pred = best_model.predict(X_val)\n",
    "\n",
    "# Calculate the accuracy of the model\n",
    "accuracy = accuracy_score(y_val, y_val_pred)\n",
    "accuracy"
   ]
  },
  {
   "cell_type": "markdown",
   "id": "46034449",
   "metadata": {},
   "source": [
    "# 3. Check the first few rows of the test data after making predictions"
   ]
  },
  {
   "cell_type": "code",
   "execution_count": 21,
   "id": "4f73b5de",
   "metadata": {
    "execution": {
     "iopub.execute_input": "2023-08-07T07:31:27.141156Z",
     "iopub.status.busy": "2023-08-07T07:31:27.140601Z",
     "iopub.status.idle": "2023-08-07T07:31:27.173644Z",
     "shell.execute_reply": "2023-08-07T07:31:27.172468Z"
    },
    "papermill": {
     "duration": 0.047486,
     "end_time": "2023-08-07T07:31:27.176141",
     "exception": false,
     "start_time": "2023-08-07T07:31:27.128655",
     "status": "completed"
    },
    "tags": []
   },
   "outputs": [
    {
     "data": {
      "text/html": [
       "<div>\n",
       "<style scoped>\n",
       "    .dataframe tbody tr th:only-of-type {\n",
       "        vertical-align: middle;\n",
       "    }\n",
       "\n",
       "    .dataframe tbody tr th {\n",
       "        vertical-align: top;\n",
       "    }\n",
       "\n",
       "    .dataframe thead th {\n",
       "        text-align: right;\n",
       "    }\n",
       "</style>\n",
       "<table border=\"1\" class=\"dataframe\">\n",
       "  <thead>\n",
       "    <tr style=\"text-align: right;\">\n",
       "      <th></th>\n",
       "      <th>PassengerId</th>\n",
       "      <th>Pclass</th>\n",
       "      <th>Name</th>\n",
       "      <th>Age</th>\n",
       "      <th>SibSp</th>\n",
       "      <th>Parch</th>\n",
       "      <th>Ticket</th>\n",
       "      <th>Fare</th>\n",
       "      <th>Sex_female</th>\n",
       "      <th>Sex_male</th>\n",
       "      <th>Embarked_C</th>\n",
       "      <th>Embarked_Q</th>\n",
       "      <th>Embarked_S</th>\n",
       "      <th>Title_Dona</th>\n",
       "      <th>Title_Master</th>\n",
       "      <th>Title_Miss</th>\n",
       "      <th>Title_Mr</th>\n",
       "      <th>Title_Mrs</th>\n",
       "      <th>Title_Rare</th>\n",
       "      <th>Survived</th>\n",
       "    </tr>\n",
       "  </thead>\n",
       "  <tbody>\n",
       "    <tr>\n",
       "      <th>0</th>\n",
       "      <td>892</td>\n",
       "      <td>3</td>\n",
       "      <td>Kelly, Mr. James</td>\n",
       "      <td>34.5</td>\n",
       "      <td>0</td>\n",
       "      <td>0</td>\n",
       "      <td>330911</td>\n",
       "      <td>7.8292</td>\n",
       "      <td>False</td>\n",
       "      <td>True</td>\n",
       "      <td>False</td>\n",
       "      <td>True</td>\n",
       "      <td>False</td>\n",
       "      <td>False</td>\n",
       "      <td>False</td>\n",
       "      <td>False</td>\n",
       "      <td>True</td>\n",
       "      <td>False</td>\n",
       "      <td>False</td>\n",
       "      <td>0</td>\n",
       "    </tr>\n",
       "    <tr>\n",
       "      <th>1</th>\n",
       "      <td>893</td>\n",
       "      <td>3</td>\n",
       "      <td>Wilkes, Mrs. James (Ellen Needs)</td>\n",
       "      <td>47.0</td>\n",
       "      <td>1</td>\n",
       "      <td>0</td>\n",
       "      <td>363272</td>\n",
       "      <td>7.0000</td>\n",
       "      <td>True</td>\n",
       "      <td>False</td>\n",
       "      <td>False</td>\n",
       "      <td>False</td>\n",
       "      <td>True</td>\n",
       "      <td>False</td>\n",
       "      <td>False</td>\n",
       "      <td>False</td>\n",
       "      <td>False</td>\n",
       "      <td>True</td>\n",
       "      <td>False</td>\n",
       "      <td>1</td>\n",
       "    </tr>\n",
       "    <tr>\n",
       "      <th>2</th>\n",
       "      <td>894</td>\n",
       "      <td>2</td>\n",
       "      <td>Myles, Mr. Thomas Francis</td>\n",
       "      <td>62.0</td>\n",
       "      <td>0</td>\n",
       "      <td>0</td>\n",
       "      <td>240276</td>\n",
       "      <td>9.6875</td>\n",
       "      <td>False</td>\n",
       "      <td>True</td>\n",
       "      <td>False</td>\n",
       "      <td>True</td>\n",
       "      <td>False</td>\n",
       "      <td>False</td>\n",
       "      <td>False</td>\n",
       "      <td>False</td>\n",
       "      <td>True</td>\n",
       "      <td>False</td>\n",
       "      <td>False</td>\n",
       "      <td>0</td>\n",
       "    </tr>\n",
       "    <tr>\n",
       "      <th>3</th>\n",
       "      <td>895</td>\n",
       "      <td>3</td>\n",
       "      <td>Wirz, Mr. Albert</td>\n",
       "      <td>27.0</td>\n",
       "      <td>0</td>\n",
       "      <td>0</td>\n",
       "      <td>315154</td>\n",
       "      <td>8.6625</td>\n",
       "      <td>False</td>\n",
       "      <td>True</td>\n",
       "      <td>False</td>\n",
       "      <td>False</td>\n",
       "      <td>True</td>\n",
       "      <td>False</td>\n",
       "      <td>False</td>\n",
       "      <td>False</td>\n",
       "      <td>True</td>\n",
       "      <td>False</td>\n",
       "      <td>False</td>\n",
       "      <td>0</td>\n",
       "    </tr>\n",
       "    <tr>\n",
       "      <th>4</th>\n",
       "      <td>896</td>\n",
       "      <td>3</td>\n",
       "      <td>Hirvonen, Mrs. Alexander (Helga E Lindqvist)</td>\n",
       "      <td>22.0</td>\n",
       "      <td>1</td>\n",
       "      <td>1</td>\n",
       "      <td>3101298</td>\n",
       "      <td>12.2875</td>\n",
       "      <td>True</td>\n",
       "      <td>False</td>\n",
       "      <td>False</td>\n",
       "      <td>False</td>\n",
       "      <td>True</td>\n",
       "      <td>False</td>\n",
       "      <td>False</td>\n",
       "      <td>False</td>\n",
       "      <td>False</td>\n",
       "      <td>True</td>\n",
       "      <td>False</td>\n",
       "      <td>1</td>\n",
       "    </tr>\n",
       "  </tbody>\n",
       "</table>\n",
       "</div>"
      ],
      "text/plain": [
       "   PassengerId  Pclass                                          Name   Age  \\\n",
       "0          892       3                              Kelly, Mr. James  34.5   \n",
       "1          893       3              Wilkes, Mrs. James (Ellen Needs)  47.0   \n",
       "2          894       2                     Myles, Mr. Thomas Francis  62.0   \n",
       "3          895       3                              Wirz, Mr. Albert  27.0   \n",
       "4          896       3  Hirvonen, Mrs. Alexander (Helga E Lindqvist)  22.0   \n",
       "\n",
       "   SibSp  Parch   Ticket     Fare  Sex_female  Sex_male  Embarked_C  \\\n",
       "0      0      0   330911   7.8292       False      True       False   \n",
       "1      1      0   363272   7.0000        True     False       False   \n",
       "2      0      0   240276   9.6875       False      True       False   \n",
       "3      0      0   315154   8.6625       False      True       False   \n",
       "4      1      1  3101298  12.2875        True     False       False   \n",
       "\n",
       "   Embarked_Q  Embarked_S  Title_Dona  Title_Master  Title_Miss  Title_Mr  \\\n",
       "0        True       False       False         False       False      True   \n",
       "1       False        True       False         False       False     False   \n",
       "2        True       False       False         False       False      True   \n",
       "3       False        True       False         False       False      True   \n",
       "4       False        True       False         False       False     False   \n",
       "\n",
       "   Title_Mrs  Title_Rare  Survived  \n",
       "0      False       False         0  \n",
       "1       True       False         1  \n",
       "2      False       False         0  \n",
       "3      False       False         0  \n",
       "4       True       False         1  "
      ]
     },
     "execution_count": 21,
     "metadata": {},
     "output_type": "execute_result"
    }
   ],
   "source": [
    "# Make predictions on the test data\n",
    "test_data['Survived'] = best_model.predict(test_data[feature_cols])\n",
    "\n",
    "# Check the first few rows of the test data after making predictions\n",
    "test_data.head()"
   ]
  },
  {
   "cell_type": "code",
   "execution_count": 22,
   "id": "fc8f6200",
   "metadata": {
    "execution": {
     "iopub.execute_input": "2023-08-07T07:31:27.199218Z",
     "iopub.status.busy": "2023-08-07T07:31:27.198524Z",
     "iopub.status.idle": "2023-08-07T07:31:28.061677Z",
     "shell.execute_reply": "2023-08-07T07:31:28.060634Z"
    },
    "papermill": {
     "duration": 0.877285,
     "end_time": "2023-08-07T07:31:28.064032",
     "exception": false,
     "start_time": "2023-08-07T07:31:27.186747",
     "status": "completed"
    },
    "tags": []
   },
   "outputs": [
    {
     "data": {
      "image/png": "[encoded data removed]",
      "text/plain": [
       "<Figure size 640x480 with 1 Axes>"
      ]
     },
     "metadata": {},
     "output_type": "display_data"
    },
    {
     "data": {
      "image/png": "[encoded data removed]",
      "text/plain": [
       "<Figure size 640x480 with 1 Axes>"
      ]
     },
     "metadata": {},
     "output_type": "display_data"
    }
   ],
   "source": [
    "# Create 'FamilySize' feature\n",
    "train_data['FamilySize'] = train_data['SibSp'] + train_data['Parch'] + 1\n",
    "\n",
    "# Visualize the distribution of 'FamilySize'\n",
    "sns.histplot(data=train_data, x='FamilySize', kde=True)\n",
    "plt.title('Distribution of Family Size')\n",
    "plt.show()\n",
    "\n",
    "# Visualize the impact of 'FamilySize' on survival\n",
    "sns.barplot(data=train_data, x='FamilySize', y='Survived')\n",
    "plt.title('Survival by Family Size')\n",
    "plt.show()"
   ]
  },
  {
   "cell_type": "markdown",
   "id": "4e6f651d",
   "metadata": {},
   "source": [
    "# Train MODEL"
   ]
  },
  {
   "cell_type": "code",
   "execution_count": 23,
   "id": "f7632885",
   "metadata": {
    "execution": {
     "iopub.execute_input": "2023-08-07T07:31:28.088074Z",
     "iopub.status.busy": "2023-08-07T07:31:28.087650Z",
     "iopub.status.idle": "2023-08-07T07:31:28.244636Z",
     "shell.execute_reply": "2023-08-07T07:31:28.243502Z"
    },
    "papermill": {
     "duration": 0.172154,
     "end_time": "2023-08-07T07:31:28.247166",
     "exception": false,
     "start_time": "2023-08-07T07:31:28.075012",
     "status": "completed"
    },
    "tags": []
   },
   "outputs": [
    {
     "data": {
      "text/plain": [
       "0.8156424581005587"
      ]
     },
     "execution_count": 23,
     "metadata": {},
     "output_type": "execute_result"
    }
   ],
   "source": [
    "from sklearn.ensemble import GradientBoostingClassifier\n",
    "\n",
    "# Add 'FamilySize' to the feature columns\n",
    "feature_cols = ['Pclass', 'Age', 'SibSp', 'Parch', 'Fare', 'Sex_female', 'Sex_male', 'Embarked_C', 'Embarked_Q', 'Embarked_S', 'Title_Master', 'Title_Miss', 'Title_Mr', 'Title_Mrs', 'Title_Rare', 'FamilySize']\n",
    "\n",
    "# Split the data into training and validation sets\n",
    "X_train, X_val, y_train, y_val = train_test_split(train_data[feature_cols], train_data['Survived'], test_size=0.2, random_state=42)\n",
    "\n",
    "# Initialize a Gradient Boosting Classifier\n",
    "model = GradientBoostingClassifier(random_state=42)\n",
    "\n",
    "# Train the model\n",
    "model.fit(X_train, y_train)\n",
    "\n",
    "# Make predictions on the validation set\n",
    "y_val_pred = model.predict(X_val)\n",
    "\n",
    "# Calculate the accuracy of the model\n",
    "accuracy = accuracy_score(y_val, y_val_pred)\n",
    "accuracy"
   ]
  },
  {
   "cell_type": "markdown",
   "id": "3b643b26",
   "metadata": {},
   "source": [
    "# 4.Get feature importances"
   ]
  },
  {
   "cell_type": "code",
   "execution_count": 26,
   "id": "396d4f56",
   "metadata": {
    "execution": {
     "iopub.execute_input": "2023-08-07T07:31:28.271505Z",
     "iopub.status.busy": "2023-08-07T07:31:28.270354Z",
     "iopub.status.idle": "2023-08-07T07:31:28.640124Z",
     "shell.execute_reply": "2023-08-07T07:31:28.638784Z"
    },
    "papermill": {
     "duration": 0.38446,
     "end_time": "2023-08-07T07:31:28.642617",
     "exception": false,
     "start_time": "2023-08-07T07:31:28.258157",
     "status": "completed"
    },
    "tags": []
   },
   "outputs": [
    {
     "data": {
      "image/png": "[encoded data removed]",
      "text/plain": [
       "<Figure size 1000x600 with 1 Axes>"
      ]
     },
     "metadata": {},
     "output_type": "display_data"
    }
   ],
   "source": [
    "\n",
    "importances = model.feature_importances_\n",
    "\n",
    "# Convert the importances into a DataFrame\n",
    "importances_df = pd.DataFrame({'feature': feature_cols, 'importance': importances})\n",
    "\n",
    "# Sort the DataFrame by importance\n",
    "importances_df = importances_df.sort_values('importance', ascending=False)\n",
    "\n",
    "# Plot the feature importances\n",
    "plt.figure(figsize=(10, 6))\n",
    "sns.barplot(data=importances_df, x='importance', y='feature', orient='h', color='skyblue')\n",
    "plt.title('Feature Importance')\n",
    "plt.show()"
   ]
  },
  {
   "cell_type": "markdown",
   "id": "df052e47",
   "metadata": {},
   "source": [
    "# 5. Summary of Analysis:"
   ]
  },
  {
   "cell_type": "markdown",
   "id": "2e9de43c",
   "metadata": {},
   "source": [
    "Data Loading and Preprocessing:\n",
    "\n",
    "The dataset is loaded and initially explored, focusing on key columns like 'Survived', 'Pclass', 'Sex', 'Age', and 'Embarked'.\n",
    "Missing values in 'Age' and 'Embarked' are addressed, with median age used for imputation in 'Age' and the most common value for 'Embarked'.\n",
    "The 'Cabin' column is dropped due to presumably high missing values.\n",
    "Feature engineering is performed, including extracting titles from the 'Name' column and grouping rare titles into a 'Rare' category.\n",
    "Categorical features are converted into numerical ones using one-hot encoding.\n",
    "\n",
    "Model Training:\n",
    "\n",
    "A Random Forest Classifier is initialized and trained on the dataset.\n",
    "The model is evaluated on a validation set, although the specific accuracy metric is not displayed in the excerpt.\n",
    "\n",
    "Prediction and Application on Test Data:\n",
    "\n",
    "Similar preprocessing steps are applied to the test dataset.\n",
    "The trained model is used to predict the 'Survived' column for the dataset."
   ]
  }
 ],
 "metadata": {
  "kernelspec": {
   "display_name": "Python 3 (ipykernel)",
   "language": "python",
   "name": "python3"
  },
  "language_info": {
   "codemirror_mode": {
    "name": "ipython",
    "version": 3
   },
   "file_extension": ".py",
   "mimetype": "text/x-python",
   "name": "python",
   "nbconvert_exporter": "python",
   "pygments_lexer": "ipython3",
   "version": "3.11.5"
  },
  "papermill": {
   "default_parameters": {},
   "duration": 72.600249,
   "end_time": "2023-08-07T07:31:31.313787",
   "environment_variables": {},
   "exception": null,
   "input_path": "__notebook__.ipynb",
   "output_path": "__notebook__.ipynb",
   "parameters": {},
   "start_time": "2023-08-07T07:30:18.713538",
   "version": "2.4.0"
  }
 },
 "nbformat": 4,
 "nbformat_minor": 5
}
